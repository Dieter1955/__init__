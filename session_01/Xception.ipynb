{
  "nbformat": 4,
  "nbformat_minor": 0,
  "metadata": {
    "colab": {
      "name": "Xception.ipynb",
      "provenance": [],
      "authorship_tag": "ABX9TyMA2noeFk24aaKKHAHxniA8",
      "include_colab_link": true
    },
    "kernelspec": {
      "name": "python3",
      "display_name": "Python 3"
    }
  },
  "cells": [
    {
      "cell_type": "markdown",
      "metadata": {
        "id": "view-in-github",
        "colab_type": "text"
      },
      "source": [
        "<a href=\"https://colab.research.google.com/github/Machine-Learning-Tokyo/__init__/blob/main/session_01/Xception.ipynb\" target=\"_parent\"><img src=\"https://colab.research.google.com/assets/colab-badge.svg\" alt=\"Open In Colab\"/></a>"
      ]
    },
    {
      "cell_type": "markdown",
      "metadata": {
        "id": "zwo95lPvNhf7"
      },
      "source": [
        "# Imports"
      ]
    },
    {
      "cell_type": "code",
      "metadata": {
        "id": "Hpry65CsTUsI"
      },
      "source": [
        "# Fixed random seeds\n",
        "from numpy.random import seed\n",
        "seed(1)\n",
        "\n",
        "import tensorflow as tf\n",
        "tf.random.set_seed(5)\n",
        "from tensorflow.keras.layers import DepthwiseConv2D, SeparableConv2D, Conv2D, Input"
      ],
      "execution_count": 1,
      "outputs": []
    },
    {
      "cell_type": "markdown",
      "metadata": {
        "id": "aXkq2ixNNeyc"
      },
      "source": [
        "## Comparing SeparableConv2D, DepthwiseConv2D and Conv2D\n"
      ]
    },
    {
      "cell_type": "code",
      "metadata": {
        "colab": {
          "base_uri": "https://localhost:8080/"
        },
        "id": "88yYgYgKNksZ",
        "outputId": "2d3bbd2a-bd5c-46dd-dd02-918101a45d4b"
      },
      "source": [
        "inputs = Input(shape=(28, 28, 3), name='input')\n",
        "x0 = SeparableConv2D(32, 3, name='separable')(inputs)\n",
        "m0 = tf.keras.Model(inputs=inputs, outputs=x0, name='m0')\n",
        "m0.summary()"
      ],
      "execution_count": 2,
      "outputs": [
        {
          "output_type": "stream",
          "text": [
            "Model: \"m0\"\n",
            "_________________________________________________________________\n",
            "Layer (type)                 Output Shape              Param #   \n",
            "=================================================================\n",
            "input (InputLayer)           [(None, 28, 28, 3)]       0         \n",
            "_________________________________________________________________\n",
            "separable (SeparableConv2D)  (None, 26, 26, 32)        155       \n",
            "=================================================================\n",
            "Total params: 155\n",
            "Trainable params: 155\n",
            "Non-trainable params: 0\n",
            "_________________________________________________________________\n"
          ],
          "name": "stdout"
        }
      ]
    },
    {
      "cell_type": "code",
      "metadata": {
        "colab": {
          "base_uri": "https://localhost:8080/"
        },
        "id": "68I-CTQmOYEs",
        "outputId": "7ae8fa9e-12ea-4182-c991-a1bf2f9b9f69"
      },
      "source": [
        "x1 = DepthwiseConv2D(3, depth_multiplier=1, use_bias=False, name='depthwise')(inputs)\n",
        "# No nonlinearities!\n",
        "x1 = Conv2D(32, 1, name='conv_1')(x1)\n",
        "m1 = tf.keras.Model(inputs=inputs, outputs=x1, name='m1')\n",
        "m1.summary()"
      ],
      "execution_count": 3,
      "outputs": [
        {
          "output_type": "stream",
          "text": [
            "Model: \"m1\"\n",
            "_________________________________________________________________\n",
            "Layer (type)                 Output Shape              Param #   \n",
            "=================================================================\n",
            "input (InputLayer)           [(None, 28, 28, 3)]       0         \n",
            "_________________________________________________________________\n",
            "depthwise (DepthwiseConv2D)  (None, 26, 26, 3)         27        \n",
            "_________________________________________________________________\n",
            "conv_1 (Conv2D)              (None, 26, 26, 32)        128       \n",
            "=================================================================\n",
            "Total params: 155\n",
            "Trainable params: 155\n",
            "Non-trainable params: 0\n",
            "_________________________________________________________________\n"
          ],
          "name": "stdout"
        }
      ]
    },
    {
      "cell_type": "markdown",
      "metadata": {
        "id": "Sve-gtrKVaF3"
      },
      "source": [
        "## use_bias=False"
      ]
    },
    {
      "cell_type": "code",
      "metadata": {
        "colab": {
          "base_uri": "https://localhost:8080/"
        },
        "id": "NMZy51l6VZxE",
        "outputId": "6396f15b-dfb3-44c5-8706-a54c831b1a2d"
      },
      "source": [
        "inputs = Input(shape=(28, 28, 3), name='input')\n",
        "x0 = SeparableConv2D(32, 3, name='separable')(inputs)\n",
        "m0 = tf.keras.Model(inputs=inputs, outputs=x0, name='m0')\n",
        "m0.summary()"
      ],
      "execution_count": 4,
      "outputs": [
        {
          "output_type": "stream",
          "text": [
            "Model: \"m0\"\n",
            "_________________________________________________________________\n",
            "Layer (type)                 Output Shape              Param #   \n",
            "=================================================================\n",
            "input (InputLayer)           [(None, 28, 28, 3)]       0         \n",
            "_________________________________________________________________\n",
            "separable (SeparableConv2D)  (None, 26, 26, 32)        155       \n",
            "=================================================================\n",
            "Total params: 155\n",
            "Trainable params: 155\n",
            "Non-trainable params: 0\n",
            "_________________________________________________________________\n"
          ],
          "name": "stdout"
        }
      ]
    },
    {
      "cell_type": "code",
      "metadata": {
        "colab": {
          "base_uri": "https://localhost:8080/"
        },
        "id": "L6vDNQONV2Yr",
        "outputId": "44e2643b-deda-4012-db79-ccb9b7765b72"
      },
      "source": [
        "x1 = DepthwiseConv2D(3, depth_multiplier=1, name='depthwise', use_bias=False)(inputs)\n",
        "x1 = Conv2D(32, 1, name='conv_1', use_bias=False)(x1)\n",
        "m1 = tf.keras.Model(inputs=inputs, outputs=x1, name='m1')\n",
        "m1.summary()"
      ],
      "execution_count": 5,
      "outputs": [
        {
          "output_type": "stream",
          "text": [
            "Model: \"m1\"\n",
            "_________________________________________________________________\n",
            "Layer (type)                 Output Shape              Param #   \n",
            "=================================================================\n",
            "input (InputLayer)           [(None, 28, 28, 3)]       0         \n",
            "_________________________________________________________________\n",
            "depthwise (DepthwiseConv2D)  (None, 26, 26, 3)         27        \n",
            "_________________________________________________________________\n",
            "conv_1 (Conv2D)              (None, 26, 26, 32)        96        \n",
            "=================================================================\n",
            "Total params: 123\n",
            "Trainable params: 123\n",
            "Non-trainable params: 0\n",
            "_________________________________________________________________\n"
          ],
          "name": "stdout"
        }
      ]
    },
    {
      "cell_type": "markdown",
      "metadata": {
        "id": "H7Y4_CjON8aM"
      },
      "source": [
        "## Comparing parameter size given similar number of output filters"
      ]
    },
    {
      "cell_type": "code",
      "metadata": {
        "colab": {
          "base_uri": "https://localhost:8080/"
        },
        "id": "FQ9XqhwXPlFB",
        "outputId": "e56755d0-546b-453c-93dd-c8642860a589"
      },
      "source": [
        "x2 = Conv2D(32, 3, name='conv2d')(inputs)\n",
        "m2 = tf.keras.Model(inputs=inputs, outputs=x2, name='m2')\n",
        "m2.summary()"
      ],
      "execution_count": 6,
      "outputs": [
        {
          "output_type": "stream",
          "text": [
            "Model: \"m2\"\n",
            "_________________________________________________________________\n",
            "Layer (type)                 Output Shape              Param #   \n",
            "=================================================================\n",
            "input (InputLayer)           [(None, 28, 28, 3)]       0         \n",
            "_________________________________________________________________\n",
            "conv2d (Conv2D)              (None, 26, 26, 32)        896       \n",
            "=================================================================\n",
            "Total params: 896\n",
            "Trainable params: 896\n",
            "Non-trainable params: 0\n",
            "_________________________________________________________________\n"
          ],
          "name": "stdout"
        }
      ]
    },
    {
      "cell_type": "code",
      "metadata": {
        "colab": {
          "base_uri": "https://localhost:8080/"
        },
        "id": "N1DQwo8_WAHi",
        "outputId": "40b6b4aa-2890-4d2b-a8bc-622884f5ac44"
      },
      "source": [
        "x2 = Conv2D(32, 3, name='conv2d', use_bias=False)(inputs)\n",
        "m2 = tf.keras.Model(inputs=inputs, outputs=x2, name='m2')\n",
        "m2.summary()"
      ],
      "execution_count": 7,
      "outputs": [
        {
          "output_type": "stream",
          "text": [
            "Model: \"m2\"\n",
            "_________________________________________________________________\n",
            "Layer (type)                 Output Shape              Param #   \n",
            "=================================================================\n",
            "input (InputLayer)           [(None, 28, 28, 3)]       0         \n",
            "_________________________________________________________________\n",
            "conv2d (Conv2D)              (None, 26, 26, 32)        864       \n",
            "=================================================================\n",
            "Total params: 864\n",
            "Trainable params: 864\n",
            "Non-trainable params: 0\n",
            "_________________________________________________________________\n"
          ],
          "name": "stdout"
        }
      ]
    },
    {
      "cell_type": "code",
      "metadata": {
        "id": "QigACGBwYPB6"
      },
      "source": [
        ""
      ],
      "execution_count": 8,
      "outputs": []
    }
  ]
}